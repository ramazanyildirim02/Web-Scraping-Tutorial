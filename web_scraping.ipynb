{
 "cells": [
  {
   "cell_type": "code",
   "execution_count": 1,
   "id": "5401cee8-d1ba-4579-9820-9c92e1c132f5",
   "metadata": {},
   "outputs": [],
   "source": [
    "from bs4 import BeautifulSoup"
   ]
  },
  {
   "cell_type": "code",
   "execution_count": 2,
   "id": "972bb77c-b8b1-4820-a852-3d05ebf20399",
   "metadata": {},
   "outputs": [],
   "source": [
    "html = \"\"\"\n",
    "        <!DOCTYPE html>\n",
    "            <html>\n",
    "            <head>\n",
    "                <title>Example HTML</title>\n",
    "            </head>\n",
    "            <body>\n",
    "                <h1>Hello, World!</h1>\n",
    "                <p id = \"paragraph\" >A simple HTML page for testing web scraping with BeautifulSoup.</p>\n",
    "                <a class='link' href='www.miuul.com' target='blank' aria-label='Miuul (Opens Miuul Page)'>Click</a>\n",
    "                <li>Outsider</li>\n",
    "                <ul>\n",
    "                    <li class = \"list-item\" >Item 1</li>\n",
    "                    <li class = \"list-item\" >Item 2</li>\n",
    "                </ul>\n",
    "                <li>Outsider 2</li>\n",
    "            </body>\n",
    "            </html>\n",
    "\n",
    "\"\"\""
   ]
  },
  {
   "cell_type": "code",
   "execution_count": 3,
   "id": "d2a0cfdf-2868-448e-b5fa-f04dff5237ca",
   "metadata": {},
   "outputs": [],
   "source": [
    "soup = BeautifulSoup(html, \"html.parser\")"
   ]
  },
  {
   "cell_type": "code",
   "execution_count": 4,
   "id": "50edcbdc-5d6f-42b3-b72b-06a168bde267",
   "metadata": {},
   "outputs": [],
   "source": [
    "# html ifadesinin title etiketini alalım.\n",
    "title = soup.title"
   ]
  },
  {
   "cell_type": "code",
   "execution_count": 5,
   "id": "b025aa6e-fbe4-4e52-8cd0-59f646782689",
   "metadata": {},
   "outputs": [
    {
     "data": {
      "text/plain": [
       "bs4.element.Tag"
      ]
     },
     "execution_count": 5,
     "metadata": {},
     "output_type": "execute_result"
    }
   ],
   "source": [
    "type(title)"
   ]
  },
  {
   "cell_type": "code",
   "execution_count": 6,
   "id": "7b86b62c-5551-461d-b3aa-809c43e9d3fb",
   "metadata": {},
   "outputs": [
    {
     "data": {
      "text/plain": [
       "'Example HTML'"
      ]
     },
     "execution_count": 6,
     "metadata": {},
     "output_type": "execute_result"
    }
   ],
   "source": [
    "title.text"
   ]
  },
  {
   "cell_type": "code",
   "execution_count": 7,
   "id": "bfabecde-51d3-4521-8171-a6252b1c3caa",
   "metadata": {},
   "outputs": [
    {
     "data": {
      "text/plain": [
       "'Example HTML'"
      ]
     },
     "execution_count": 7,
     "metadata": {},
     "output_type": "execute_result"
    }
   ],
   "source": [
    "title.string"
   ]
  },
  {
   "cell_type": "code",
   "execution_count": 8,
   "id": "0dfd43eb-10cf-42f6-8acc-3debe636b92d",
   "metadata": {},
   "outputs": [
    {
     "data": {
      "text/plain": [
       "bs4.element.NavigableString"
      ]
     },
     "execution_count": 8,
     "metadata": {},
     "output_type": "execute_result"
    }
   ],
   "source": [
    "type(title.string)"
   ]
  },
  {
   "cell_type": "code",
   "execution_count": 9,
   "id": "866b6d77-c767-43ec-afdc-9b2c7b4cb22f",
   "metadata": {},
   "outputs": [
    {
     "data": {
      "text/plain": [
       "str"
      ]
     },
     "execution_count": 9,
     "metadata": {},
     "output_type": "execute_result"
    }
   ],
   "source": [
    "type(title.text)"
   ]
  },
  {
   "cell_type": "code",
   "execution_count": 10,
   "id": "46132aa9-8ffa-4b72-97c2-cf06850a3a84",
   "metadata": {},
   "outputs": [
    {
     "name": "stdout",
     "output_type": "stream",
     "text": [
      "<!DOCTYPE html>\n",
      "<html>\n",
      " <head>\n",
      "  <title>\n",
      "   Example HTML\n",
      "  </title>\n",
      " </head>\n",
      " <body>\n",
      "  <h1>\n",
      "   Hello, World!\n",
      "  </h1>\n",
      "  <p id=\"paragraph\">\n",
      "   A simple HTML page for testing web scraping with BeautifulSoup.\n",
      "  </p>\n",
      "  <a aria-label=\"Miuul (Opens Miuul Page)\" class=\"link\" href=\"www.miuul.com\" target=\"blank\">\n",
      "   Click\n",
      "  </a>\n",
      "  <li>\n",
      "   Outsider\n",
      "  </li>\n",
      "  <ul>\n",
      "   <li class=\"list-item\">\n",
      "    Item 1\n",
      "   </li>\n",
      "   <li class=\"list-item\">\n",
      "    Item 2\n",
      "   </li>\n",
      "  </ul>\n",
      "  <li>\n",
      "   Outsider 2\n",
      "  </li>\n",
      " </body>\n",
      "</html>\n",
      "\n"
     ]
    }
   ],
   "source": [
    "print(soup.prettify()) # Eğer html kodları karışık bir şekildeyse düzenli bir şekilde döndürür."
   ]
  },
  {
   "cell_type": "code",
   "execution_count": 11,
   "id": "b7f5daf5-4269-45d6-92ce-b807ba075140",
   "metadata": {},
   "outputs": [
    {
     "data": {
      "text/plain": [
       "<ul>\n",
       "<li class=\"list-item\">Item 1</li>\n",
       "<li class=\"list-item\">Item 2</li>\n",
       "</ul>"
      ]
     },
     "execution_count": 11,
     "metadata": {},
     "output_type": "execute_result"
    }
   ],
   "source": [
    "soup.ul"
   ]
  },
  {
   "cell_type": "code",
   "execution_count": 12,
   "id": "eb288f8f-02fd-48a3-bab3-f2b3780b5ef5",
   "metadata": {},
   "outputs": [
    {
     "data": {
      "text/plain": [
       "<li>Outsider</li>"
      ]
     },
     "execution_count": 12,
     "metadata": {},
     "output_type": "execute_result"
    }
   ],
   "source": [
    "soup.li"
   ]
  },
  {
   "cell_type": "code",
   "execution_count": 13,
   "id": "2c5b2b89-b22e-4ca1-9373-1d1562339a92",
   "metadata": {},
   "outputs": [],
   "source": [
    "ul = soup.ul"
   ]
  },
  {
   "cell_type": "code",
   "execution_count": 14,
   "id": "8a84109b-1fbe-4100-b6c4-f8414e98766d",
   "metadata": {},
   "outputs": [
    {
     "data": {
      "text/plain": [
       "bs4.element.Tag"
      ]
     },
     "execution_count": 14,
     "metadata": {},
     "output_type": "execute_result"
    }
   ],
   "source": [
    "type(ul)"
   ]
  },
  {
   "cell_type": "code",
   "execution_count": 15,
   "id": "c6281a9f-4273-4803-ba33-9e8d8d7064a9",
   "metadata": {},
   "outputs": [
    {
     "data": {
      "text/plain": [
       "<li class=\"list-item\">Item 1</li>"
      ]
     },
     "execution_count": 15,
     "metadata": {},
     "output_type": "execute_result"
    }
   ],
   "source": [
    "ul.li"
   ]
  },
  {
   "cell_type": "markdown",
   "id": "7b95d4bb-53c4-41cc-aec9-b1b6d4de82f8",
   "metadata": {},
   "source": [
    "Buradan anlaşılan, herhangi bir tag!ı çağırdığında o taglardan önüne çıkan ilk tag'ı alır. Peki benim isteğim özelinde bir tag'ı nasıl çağırabilirim?"
   ]
  },
  {
   "cell_type": "code",
   "execution_count": 16,
   "id": "76152cb2-2e89-42c3-89d1-0f05fb2ce8a4",
   "metadata": {},
   "outputs": [
    {
     "data": {
      "text/plain": [
       "<a aria-label=\"Miuul (Opens Miuul Page)\" class=\"link\" href=\"www.miuul.com\" target=\"blank\">Click</a>"
      ]
     },
     "execution_count": 16,
     "metadata": {},
     "output_type": "execute_result"
    }
   ],
   "source": [
    "soup.a"
   ]
  },
  {
   "cell_type": "code",
   "execution_count": 17,
   "id": "f2928bf0-818e-4244-bdb4-b4c934311ced",
   "metadata": {},
   "outputs": [
    {
     "data": {
      "text/plain": [
       "<a aria-label=\"Miuul (Opens Miuul Page)\" class=\"link\" href=\"www.miuul.com\" target=\"blank\">Click</a>"
      ]
     },
     "execution_count": 17,
     "metadata": {},
     "output_type": "execute_result"
    }
   ],
   "source": [
    "soup.find(\"a\", attrs = {\"class\": \"link\", \"target\": \"blank\"})"
   ]
  },
  {
   "cell_type": "code",
   "execution_count": 18,
   "id": "3b65ac57-3f61-485e-a25c-f07bd0ee457f",
   "metadata": {},
   "outputs": [
    {
     "data": {
      "text/plain": [
       "<a aria-label=\"Miuul (Opens Miuul Page)\" class=\"link\" href=\"www.miuul.com\" target=\"blank\">Click</a>"
      ]
     },
     "execution_count": 18,
     "metadata": {},
     "output_type": "execute_result"
    }
   ],
   "source": [
    "soup.find(\"a\", class_ = \"link\") # sadece class özelinde arayabilmemizi sağlar."
   ]
  },
  {
   "cell_type": "markdown",
   "id": "1cf07964-e5e4-44d1-8c85-c49371c2b225",
   "metadata": {},
   "source": [
    "Peki ben o taglardan ilkini değil de hepsini çağırmak istiyorsam nasıl yaparım?"
   ]
  },
  {
   "cell_type": "code",
   "execution_count": 19,
   "id": "26c1d4a2-d2e4-43e3-a98e-00f9d4d6d2c5",
   "metadata": {},
   "outputs": [
    {
     "data": {
      "text/plain": [
       "[<li>Outsider</li>,\n",
       " <li class=\"list-item\">Item 1</li>,\n",
       " <li class=\"list-item\">Item 2</li>,\n",
       " <li>Outsider 2</li>]"
      ]
     },
     "execution_count": 19,
     "metadata": {},
     "output_type": "execute_result"
    }
   ],
   "source": [
    "soup.find_all(\"li\")"
   ]
  },
  {
   "cell_type": "code",
   "execution_count": 20,
   "id": "c24ed545-a64a-4a02-8dd2-a0463cd68005",
   "metadata": {},
   "outputs": [
    {
     "data": {
      "text/plain": [
       "[<li class=\"list-item\">Item 1</li>, <li class=\"list-item\">Item 2</li>]"
      ]
     },
     "execution_count": 20,
     "metadata": {},
     "output_type": "execute_result"
    }
   ],
   "source": [
    "li_elements = soup.find_all(\"li\", attrs = {\"class\": \"list-item\"})\n",
    "li_elements"
   ]
  },
  {
   "cell_type": "code",
   "execution_count": 21,
   "id": "309358fc-ea0c-4095-9177-5dd7d8a3bb50",
   "metadata": {},
   "outputs": [
    {
     "data": {
      "text/plain": [
       "<li class=\"list-item\">Item 2</li>"
      ]
     },
     "execution_count": 21,
     "metadata": {},
     "output_type": "execute_result"
    }
   ],
   "source": [
    "li_elements[-1]"
   ]
  },
  {
   "cell_type": "code",
   "execution_count": 22,
   "id": "77ad2146-f00c-4c79-a8e3-7c8b92fb9db2",
   "metadata": {},
   "outputs": [],
   "source": [
    "new_html = \"\"\"\n",
    "<!DOCTYPE html>\n",
    "<html lang=\"en\">\n",
    "<head>\n",
    "  <meta charset=\"UTF-8\">\n",
    "  <meta name=\"viewport\" content=\"width=device-width, initial-scale=1.0\">\n",
    "  <title>Animal Table</title>\n",
    "  <style>\n",
    "    table {\n",
    "      width: 80%;\n",
    "      border-collapse: collapse;\n",
    "      margin: 20px;\n",
    "    }\n",
    "\n",
    "    th, td {\n",
    "      border: 1px solid #dddddd;\n",
    "      text-align: left;\n",
    "      padding: 8px;\n",
    "    }\n",
    "\n",
    "    th {\n",
    "      background-color: #f2f2f2;\n",
    "    }\n",
    "\n",
    "    img {\n",
    "object-fit: cover;\n",
    "      max-width: 50px;\n",
    "      max-height: 50px;\n",
    "    }\n",
    "  </style>\n",
    "</head>\n",
    "<body>\n",
    "\n",
    "  <h2>Animal Table</h2>\n",
    "\n",
    "  <table>\n",
    "    <thead><tr>\n",
    "      <th>Image</th>\n",
    "      <th>Animal</th>\n",
    "      <th>Description</th>\n",
    "      <th>Nickname</th>\n",
    "    </tr></thead>\n",
    "    <tbody>\n",
    "    <tr>\n",
    "      <td><img src=\"https://images.unsplash.com/photo-1534188753412-3e26d0d618d6?q=80&w=1974&auto=format&fit=crop&ixlib=rb-4.0.3&ixid=M3wxMjA3fDB8MHxwaG90by1wYWdlfHx8fGVufDB8fHx8fA%3D%3D\" alt=\"Lion\"></td>\n",
    "      <td><a href=\"https://en.wikipedia.org/wiki/Lion\" target=\"_blank\">Lion</a></td>\n",
    "      <td>The lion is a large carnivorous mammal. It is known for its majestic appearance and is often referred to as the \"king of the jungle.\"</td>\n",
    "      <td> Majestic<br>King  </td>\n",
    "    </tr>\n",
    "    <tr>\n",
    "      <td><img src=\"https://images.unsplash.com/photo-1551316679-9c6ae9dec224?q=80&w=1974&auto=format&fit=crop&ixlib=rb-4.0.3&ixid=M3wxMjA3fDB8MHxwaG90by1wYWdlfHx8fGVufDB8fHx8fA%3D%3D\" alt=\"Elephant\"></td>\n",
    "      <td><a href=\"https://en.wikipedia.org/wiki/Elephant\" target=\"_blank\">Elephant</a></td>\n",
    "      <td>Elephants are the largest land animals. They are known for their long trunks and large ears.</td>\n",
    "      <td> Trunked<br>  Giant</td>\n",
    "    </tr>\n",
    "    <tr>\n",
    "      <td><img src=\"https://images.unsplash.com/photo-1570481662006-a3a1374699e8?q=80&w=1965&auto=format&fit=crop&ixlib=rb-4.0.3&ixid=M3wxMjA3fDB8MHxwaG90by1wYWdlfHx8fGVufDB8fHx8fA%3D%3D\" alt=\"Dolphin\"></td>\n",
    "      <td><a href=\"https://en.wikipedia.org/wiki/Dolphin\" target=\"_blank\">Dolphin</a></td>\n",
    "      <td>Dolphins are highly intelligent marine mammals known for their playful behavior and communication skills.</td>\n",
    "      <td> Playful<br>Communicator</td>\n",
    "    </tr>\n",
    "    <tr>\n",
    "      <td><img src=\"https://images.unsplash.com/photo-1599631438215-75bc2640feb8?q=80&w=2127&auto=format&fit=crop&ixlib=rb-4.0.3&ixid=M3wxMjA3fDB8MHxwaG90by1wYWdlfHx8fGVufDB8fHx8fA%3D%3D\" alt=\"Butterfly\"></td>\n",
    "      <td><a href=\"https://en.wikipedia.org/wiki/Butterfly\" target=\"_blank\">Butterfly</a></td>\n",
    "      <td>Butterflies are beautiful insects with colorful wings. They undergo a process called metamorphosis from caterpillar to butterfly.</td>\n",
    "      <td> Colorful<br>Metamorphosis</td>\n",
    "    </tr>\n",
    "    <tr>\n",
    "      <td><img src=\"https://images.unsplash.com/photo-1552633832-4f5a1b110980?q=80&w=1974&auto=format&fit=crop&ixlib=rb-4.0.3&ixid=M3wxMjA3fDB8MHxwaG90by1wYWdlfHx8fGVufDB8fHx8fA%3D%3D\" alt=\"Penguin\"></td>\n",
    "      <td><a href=\"https://en.wikipedia.org/wiki/Penguin\" target=\"_blank\">Penguin</a></td>\n",
    "      <td>Penguins are flightless birds that are well-adapted to life in the water. They are known for their tuxedo-like black and white plumage.</td>\n",
    "      <td> Tuxedoed     <br>Adaptation  </td>\n",
    "    </tr>\n",
    "  </tbody>\n",
    "  </table>\n",
    "</body>\n",
    "</html>\n",
    "\"\"\""
   ]
  },
  {
   "cell_type": "code",
   "execution_count": 23,
   "id": "f0024a65-e7a4-4107-80f9-0551dc6610f6",
   "metadata": {},
   "outputs": [],
   "source": [
    "soup = BeautifulSoup(new_html, \"html.parser\")"
   ]
  },
  {
   "cell_type": "code",
   "execution_count": 24,
   "id": "25848bbb-a89b-4eb3-8251-86f670be0e3d",
   "metadata": {},
   "outputs": [],
   "source": [
    "tbody_tag = soup.find(\"tbody\")\n",
    "tr_tag_list = tbody_tag.find_all(\"tr\")"
   ]
  },
  {
   "cell_type": "code",
   "execution_count": 25,
   "id": "b2970414-ee71-4cd5-bf65-a81fa807c829",
   "metadata": {},
   "outputs": [
    {
     "name": "stdout",
     "output_type": "stream",
     "text": [
      "[<tr>\n",
      "<td><img alt=\"Lion\" src=\"https://images.unsplash.com/photo-1534188753412-3e26d0d618d6?q=80&amp;w=1974&amp;auto=format&amp;fit=crop&amp;ixlib=rb-4.0.3&amp;ixid=M3wxMjA3fDB8MHxwaG90by1wYWdlfHx8fGVufDB8fHx8fA%3D%3D\"/></td>\n",
      "<td><a href=\"https://en.wikipedia.org/wiki/Lion\" target=\"_blank\">Lion</a></td>\n",
      "<td>The lion is a large carnivorous mammal. It is known for its majestic appearance and is often referred to as the \"king of the jungle.\"</td>\n",
      "<td> Majestic<br/>King  </td>\n",
      "</tr>, <tr>\n",
      "<td><img alt=\"Elephant\" src=\"https://images.unsplash.com/photo-1551316679-9c6ae9dec224?q=80&amp;w=1974&amp;auto=format&amp;fit=crop&amp;ixlib=rb-4.0.3&amp;ixid=M3wxMjA3fDB8MHxwaG90by1wYWdlfHx8fGVufDB8fHx8fA%3D%3D\"/></td>\n",
      "<td><a href=\"https://en.wikipedia.org/wiki/Elephant\" target=\"_blank\">Elephant</a></td>\n",
      "<td>Elephants are the largest land animals. They are known for their long trunks and large ears.</td>\n",
      "<td> Trunked<br/>  Giant</td>\n",
      "</tr>, <tr>\n",
      "<td><img alt=\"Dolphin\" src=\"https://images.unsplash.com/photo-1570481662006-a3a1374699e8?q=80&amp;w=1965&amp;auto=format&amp;fit=crop&amp;ixlib=rb-4.0.3&amp;ixid=M3wxMjA3fDB8MHxwaG90by1wYWdlfHx8fGVufDB8fHx8fA%3D%3D\"/></td>\n",
      "<td><a href=\"https://en.wikipedia.org/wiki/Dolphin\" target=\"_blank\">Dolphin</a></td>\n",
      "<td>Dolphins are highly intelligent marine mammals known for their playful behavior and communication skills.</td>\n",
      "<td> Playful<br/>Communicator</td>\n",
      "</tr>, <tr>\n",
      "<td><img alt=\"Butterfly\" src=\"https://images.unsplash.com/photo-1599631438215-75bc2640feb8?q=80&amp;w=2127&amp;auto=format&amp;fit=crop&amp;ixlib=rb-4.0.3&amp;ixid=M3wxMjA3fDB8MHxwaG90by1wYWdlfHx8fGVufDB8fHx8fA%3D%3D\"/></td>\n",
      "<td><a href=\"https://en.wikipedia.org/wiki/Butterfly\" target=\"_blank\">Butterfly</a></td>\n",
      "<td>Butterflies are beautiful insects with colorful wings. They undergo a process called metamorphosis from caterpillar to butterfly.</td>\n",
      "<td> Colorful<br/>Metamorphosis</td>\n",
      "</tr>, <tr>\n",
      "<td><img alt=\"Penguin\" src=\"https://images.unsplash.com/photo-1552633832-4f5a1b110980?q=80&amp;w=1974&amp;auto=format&amp;fit=crop&amp;ixlib=rb-4.0.3&amp;ixid=M3wxMjA3fDB8MHxwaG90by1wYWdlfHx8fGVufDB8fHx8fA%3D%3D\"/></td>\n",
      "<td><a href=\"https://en.wikipedia.org/wiki/Penguin\" target=\"_blank\">Penguin</a></td>\n",
      "<td>Penguins are flightless birds that are well-adapted to life in the water. They are known for their tuxedo-like black and white plumage.</td>\n",
      "<td> Tuxedoed     <br/>Adaptation  </td>\n",
      "</tr>]\n"
     ]
    }
   ],
   "source": [
    "print(tr_tag_list)"
   ]
  },
  {
   "cell_type": "markdown",
   "id": "3caf48b5-7758-4584-a88e-4a179663a9f5",
   "metadata": {},
   "source": [
    "Tablo içerisindeki aslan hayvanına ait bilgileri içeren bilgileri attributa'lara göre tek tek ayıralım."
   ]
  },
  {
   "cell_type": "code",
   "execution_count": 26,
   "id": "fc0c1147-275e-49e5-8e92-50a2687ab775",
   "metadata": {},
   "outputs": [
    {
     "data": {
      "text/plain": [
       "<tr>\n",
       "<td><img alt=\"Lion\" src=\"https://images.unsplash.com/photo-1534188753412-3e26d0d618d6?q=80&amp;w=1974&amp;auto=format&amp;fit=crop&amp;ixlib=rb-4.0.3&amp;ixid=M3wxMjA3fDB8MHxwaG90by1wYWdlfHx8fGVufDB8fHx8fA%3D%3D\"/></td>\n",
       "<td><a href=\"https://en.wikipedia.org/wiki/Lion\" target=\"_blank\">Lion</a></td>\n",
       "<td>The lion is a large carnivorous mammal. It is known for its majestic appearance and is often referred to as the \"king of the jungle.\"</td>\n",
       "<td> Majestic<br/>King  </td>\n",
       "</tr>"
      ]
     },
     "execution_count": 26,
     "metadata": {},
     "output_type": "execute_result"
    }
   ],
   "source": [
    "tr_tag = tr_tag_list[0]\n",
    "tr_tag"
   ]
  },
  {
   "cell_type": "code",
   "execution_count": 27,
   "id": "73ac656a-6b63-493e-840d-c9f150cf930d",
   "metadata": {},
   "outputs": [
    {
     "data": {
      "text/plain": [
       "<img alt=\"Lion\" src=\"https://images.unsplash.com/photo-1534188753412-3e26d0d618d6?q=80&amp;w=1974&amp;auto=format&amp;fit=crop&amp;ixlib=rb-4.0.3&amp;ixid=M3wxMjA3fDB8MHxwaG90by1wYWdlfHx8fGVufDB8fHx8fA%3D%3D\"/>"
      ]
     },
     "execution_count": 27,
     "metadata": {},
     "output_type": "execute_result"
    }
   ],
   "source": [
    "img_tag = tr_tag.find(\"img\")\n",
    "img_tag"
   ]
  },
  {
   "cell_type": "code",
   "execution_count": 28,
   "id": "8c4c8653-003a-4491-a8a8-90cb80ded440",
   "metadata": {},
   "outputs": [
    {
     "data": {
      "text/plain": [
       "<a href=\"https://en.wikipedia.org/wiki/Lion\" target=\"_blank\">Lion</a>"
      ]
     },
     "execution_count": 28,
     "metadata": {},
     "output_type": "execute_result"
    }
   ],
   "source": [
    "a_tag = tr_tag.find(\"a\")\n",
    "a_tag"
   ]
  },
  {
   "cell_type": "code",
   "execution_count": 29,
   "id": "e628ff20-110b-4ef2-bb9e-80d20fb8413a",
   "metadata": {},
   "outputs": [],
   "source": [
    "# aslan satırının son td ve sondan bir önceki taglarına bakalım.\n",
    "nickname_td = tr_tag.find_all(\"td\")[-1]\n",
    "desc_td = tr_tag.find_all(\"td\")[-2]"
   ]
  },
  {
   "cell_type": "code",
   "execution_count": 30,
   "id": "9727b170-b05f-4011-8550-0aa4b157dc5f",
   "metadata": {},
   "outputs": [
    {
     "name": "stdout",
     "output_type": "stream",
     "text": [
      "<td> Majestic<br/>King  </td> \n",
      "\n",
      " <td>The lion is a large carnivorous mammal. It is known for its majestic appearance and is often referred to as the \"king of the jungle.\"</td>\n"
     ]
    }
   ],
   "source": [
    "print(nickname_td, \"\\n\\n\", desc_td)"
   ]
  },
  {
   "cell_type": "code",
   "execution_count": 31,
   "id": "0748418a-d6c3-4816-84ad-b323096eb52f",
   "metadata": {},
   "outputs": [
    {
     "data": {
      "text/plain": [
       "'The lion is a large carnivorous mammal. It is known for its majestic appearance and is often referred to as the \"king of the jungle.\"'"
      ]
     },
     "execution_count": 31,
     "metadata": {},
     "output_type": "execute_result"
    }
   ],
   "source": [
    "#açıklama bulunan tag içindeki metni çekelim.\n",
    "desc_td.text"
   ]
  },
  {
   "cell_type": "code",
   "execution_count": 32,
   "id": "f865d725-edeb-4ac6-95de-c38115940e52",
   "metadata": {},
   "outputs": [
    {
     "data": {
      "text/plain": [
       "'Majestic King'"
      ]
     },
     "execution_count": 32,
     "metadata": {},
     "output_type": "execute_result"
    }
   ],
   "source": [
    "# kullanıcı adı tagını çağıralım.\n",
    "nickname_td.get_text(separator = \" \", strip = True)   # strip() metodu gibi boşlukları kaldırır."
   ]
  },
  {
   "cell_type": "code",
   "execution_count": 33,
   "id": "d507cf2d-ca15-40f6-9215-edbe6d819640",
   "metadata": {},
   "outputs": [
    {
     "data": {
      "text/plain": [
       "<img alt=\"Lion\" src=\"https://images.unsplash.com/photo-1534188753412-3e26d0d618d6?q=80&amp;w=1974&amp;auto=format&amp;fit=crop&amp;ixlib=rb-4.0.3&amp;ixid=M3wxMjA3fDB8MHxwaG90by1wYWdlfHx8fGVufDB8fHx8fA%3D%3D\"/>"
      ]
     },
     "execution_count": 33,
     "metadata": {},
     "output_type": "execute_result"
    }
   ],
   "source": [
    "# Şimdi de img_tag'ı attribute' lara göre parçalayalım.\n",
    "img_tag"
   ]
  },
  {
   "cell_type": "code",
   "execution_count": 34,
   "id": "da9f4d19-685e-45ec-9dcc-55161162d845",
   "metadata": {},
   "outputs": [
    {
     "data": {
      "text/plain": [
       "'Lion'"
      ]
     },
     "execution_count": 34,
     "metadata": {},
     "output_type": "execute_result"
    }
   ],
   "source": [
    "alt_attribute = img_tag[\"alt\"]\n",
    "alt_attribute  # çünkü bu bir dictionary yapısında"
   ]
  },
  {
   "cell_type": "code",
   "execution_count": 35,
   "id": "c8187a38-8ba1-4998-be15-d93f326bc4d3",
   "metadata": {},
   "outputs": [
    {
     "data": {
      "text/plain": [
       "'https://images.unsplash.com/photo-1534188753412-3e26d0d618d6?q=80&w=1974&auto=format&fit=crop&ixlib=rb-4.0.3&ixid=M3wxMjA3fDB8MHxwaG90by1wYWdlfHx8fGVufDB8fHx8fA%3D%3D'"
      ]
     },
     "execution_count": 35,
     "metadata": {},
     "output_type": "execute_result"
    }
   ],
   "source": [
    "src_attribute = img_tag[\"src\"]\n",
    "src_attribute"
   ]
  },
  {
   "cell_type": "code",
   "execution_count": 36,
   "id": "96872a5e-e8f9-4e1d-b477-753466ec9a12",
   "metadata": {},
   "outputs": [
    {
     "data": {
      "text/plain": [
       "<a href=\"https://en.wikipedia.org/wiki/Lion\" target=\"_blank\">Lion</a>"
      ]
     },
     "execution_count": 36,
     "metadata": {},
     "output_type": "execute_result"
    }
   ],
   "source": [
    "# Aynı işlemleri a_tag'ında da yapalım.\n",
    "a_tag"
   ]
  },
  {
   "cell_type": "code",
   "execution_count": 37,
   "id": "fef8e7e2-0938-4d71-967a-7ae80ceaac1c",
   "metadata": {},
   "outputs": [
    {
     "data": {
      "text/plain": [
       "'https://en.wikipedia.org/wiki/Lion'"
      ]
     },
     "execution_count": 37,
     "metadata": {},
     "output_type": "execute_result"
    }
   ],
   "source": [
    "a_tag[\"href\"]"
   ]
  },
  {
   "cell_type": "code",
   "execution_count": 38,
   "id": "a7b00fe3-a951-47f9-bfea-84abdd7bcb8a",
   "metadata": {},
   "outputs": [
    {
     "data": {
      "text/plain": [
       "'_blank'"
      ]
     },
     "execution_count": 38,
     "metadata": {},
     "output_type": "execute_result"
    }
   ],
   "source": [
    "a_tag[\"target\"]"
   ]
  },
  {
   "cell_type": "markdown",
   "id": "ab68558c-b98e-47d0-9ffc-f79fb09b1113",
   "metadata": {
    "scrolled": true
   },
   "source": [
    "Şu ana kadar kod daosyası üzerinde html kodlarımızı yazmıştık. Peki herhangi bir web sitesinin kodlarını nasıl çekip onları işleyebiliriz?"
   ]
  },
  {
   "cell_type": "code",
   "execution_count": 39,
   "id": "e25c1db5-0ad7-4ae8-ae0f-0e8befe70ea5",
   "metadata": {},
   "outputs": [],
   "source": [
    "import requests"
   ]
  },
  {
   "cell_type": "code",
   "execution_count": 40,
   "id": "471511a7-1e3f-4914-9c30-06b39033760e",
   "metadata": {},
   "outputs": [],
   "source": [
    "result = requests.get(\"https://example.com/\")   # https protokolü aracılığıyla içerikleri bana getirir."
   ]
  },
  {
   "cell_type": "code",
   "execution_count": 41,
   "id": "ef32f373-be0a-467d-9746-70bfae9d4294",
   "metadata": {},
   "outputs": [
    {
     "data": {
      "text/plain": [
       "200"
      ]
     },
     "execution_count": 41,
     "metadata": {},
     "output_type": "execute_result"
    }
   ],
   "source": [
    "result.status_code # 200 başarılı olduğu anlamına gelir."
   ]
  },
  {
   "cell_type": "code",
   "execution_count": 42,
   "id": "9c7a2157-3ded-4118-ba4a-13158100d333",
   "metadata": {},
   "outputs": [],
   "source": [
    "html = result.content\n",
    "soup = BeautifulSoup(html, \"html.parser\")"
   ]
  },
  {
   "cell_type": "code",
   "execution_count": 43,
   "id": "735b2e7c-8076-4eac-9da5-3fdb2d85080b",
   "metadata": {},
   "outputs": [
    {
     "data": {
      "text/plain": [
       "'Example Domain'"
      ]
     },
     "execution_count": 43,
     "metadata": {},
     "output_type": "execute_result"
    }
   ],
   "source": [
    "soup.find(\"h1\").text"
   ]
  },
  {
   "cell_type": "markdown",
   "id": "9dd700f3-907b-4feb-95ba-d8ae0db7b98a",
   "metadata": {},
   "source": [
    "# Selenium"
   ]
  },
  {
   "cell_type": "code",
   "execution_count": 44,
   "id": "a96132f8-831c-4579-ab35-9c8dfaafcd0e",
   "metadata": {},
   "outputs": [],
   "source": [
    "from selenium import webdriver"
   ]
  },
  {
   "cell_type": "code",
   "execution_count": 45,
   "id": "52b72252-395c-462a-a90a-9d718b7c70c6",
   "metadata": {},
   "outputs": [],
   "source": [
    "# chrome'u çalıştırmadan önce belli ön koşullar ekleyebiliriz.\n",
    "options = webdriver.ChromeOptions()\n",
    "options.add_argument(\"--headless\") # Tarayıcıyı arkaplanda çalıştırır."
   ]
  },
  {
   "cell_type": "code",
   "execution_count": 46,
   "id": "1511492b-24ad-4b0d-9aba-186cdd2e0d4c",
   "metadata": {},
   "outputs": [],
   "source": [
    "driver = webdriver.Chrome(options) # Tarayıcıyı açar."
   ]
  },
  {
   "cell_type": "code",
   "execution_count": 47,
   "id": "80d42314-028f-4fdd-bc7b-4029219fdc21",
   "metadata": {},
   "outputs": [],
   "source": [
    "driver.get(\"https://www.miuul.com/\") # requests gibi bir adrese gider."
   ]
  },
  {
   "cell_type": "code",
   "execution_count": 48,
   "id": "31568b32-5c5d-453b-8acc-fa6acc2d2edc",
   "metadata": {},
   "outputs": [
    {
     "data": {
      "text/plain": [
       "'Bootcamps, Kariyer Yolculukları ve Kurslar | Miuul'"
      ]
     },
     "execution_count": 48,
     "metadata": {},
     "output_type": "execute_result"
    }
   ],
   "source": [
    "driver.title"
   ]
  },
  {
   "cell_type": "code",
   "execution_count": 49,
   "id": "d5d6e279-889d-4388-a1d6-8ddc48e59279",
   "metadata": {},
   "outputs": [
    {
     "data": {
      "text/plain": [
       "'https://miuul.com/'"
      ]
     },
     "execution_count": 49,
     "metadata": {},
     "output_type": "execute_result"
    }
   ],
   "source": [
    "driver.current_url"
   ]
  },
  {
   "cell_type": "code",
   "execution_count": 50,
   "id": "8f969c43-734d-45a9-8ae7-e9b1b2c61085",
   "metadata": {},
   "outputs": [],
   "source": [
    "driver.quit() # tarayıcıyı kapatır."
   ]
  },
  {
   "cell_type": "markdown",
   "id": "ed770666-eea1-4658-a0c9-d50eb9618331",
   "metadata": {},
   "source": [
    "Peki ben girdiğim web sitesinin taglarına, elementlerine nasıl erişebileceğim?"
   ]
  },
  {
   "cell_type": "code",
   "execution_count": 51,
   "id": "6449cadf-fa11-48ca-b694-b7416f0e96e2",
   "metadata": {},
   "outputs": [],
   "source": [
    "from selenium.webdriver.common.by import By"
   ]
  },
  {
   "cell_type": "code",
   "execution_count": 52,
   "id": "eda0ec8c-f751-42bc-ade6-76285e2bfb00",
   "metadata": {},
   "outputs": [],
   "source": [
    "driver = webdriver.Chrome()\n",
    "driver.get(\"https://example.com/\")\n",
    "element = driver.find_element(By.XPATH, \"//a\") # xpath kullanarak a tagına erişmek istiyorum dedim. Bunu da By sınıfı ile yaptım."
   ]
  },
  {
   "cell_type": "code",
   "execution_count": 53,
   "id": "eed325f3-22b5-4a3a-bcc8-3c350645949f",
   "metadata": {},
   "outputs": [
    {
     "data": {
      "text/plain": [
       "<selenium.webdriver.remote.webelement.WebElement (session=\"fb130c1ec51ef74f27741e4525f07939\", element=\"f.3A99229B8C7FC24762B4A723383DF1E8.d.5EDD56F4DC8E7E3640F14727A3FAA9AE.e.2\")>"
      ]
     },
     "execution_count": 53,
     "metadata": {},
     "output_type": "execute_result"
    }
   ],
   "source": [
    "element"
   ]
  },
  {
   "cell_type": "code",
   "execution_count": 54,
   "id": "c096e0bb-4937-4033-b410-d7cb7ad74496",
   "metadata": {},
   "outputs": [
    {
     "data": {
      "text/plain": [
       "'More information...'"
      ]
     },
     "execution_count": 54,
     "metadata": {},
     "output_type": "execute_result"
    }
   ],
   "source": [
    "element.text"
   ]
  },
  {
   "cell_type": "code",
   "execution_count": 55,
   "id": "aaef266f-f513-440f-b575-03d2bd211c45",
   "metadata": {},
   "outputs": [
    {
     "data": {
      "text/plain": [
       "'More information...'"
      ]
     },
     "execution_count": 55,
     "metadata": {},
     "output_type": "execute_result"
    }
   ],
   "source": [
    "element.get_attribute(\"innerHTML\")"
   ]
  },
  {
   "cell_type": "code",
   "execution_count": 56,
   "id": "cc8b2abf-22c8-40ec-af2d-a81c286a9afd",
   "metadata": {},
   "outputs": [
    {
     "data": {
      "text/plain": [
       "'https://www.iana.org/domains/example'"
      ]
     },
     "execution_count": 56,
     "metadata": {},
     "output_type": "execute_result"
    }
   ],
   "source": [
    "element.get_attribute(\"href\")"
   ]
  },
  {
   "cell_type": "code",
   "execution_count": 57,
   "id": "d88f8458-9a6e-4ee8-969c-8bcaee4a5111",
   "metadata": {},
   "outputs": [],
   "source": [
    "driver.quit()"
   ]
  },
  {
   "cell_type": "markdown",
   "id": "ff4f9cc2-b0e1-4b2b-9bc1-a349156d9715",
   "metadata": {},
   "source": [
    "Fakat bu kullanım çok tercih edilmez. Sık kullanılan yöntemden bahsedelim."
   ]
  },
  {
   "cell_type": "code",
   "execution_count": 58,
   "id": "5eed3aac-dad4-4579-8e72-d7a4f395bc43",
   "metadata": {},
   "outputs": [],
   "source": [
    "import time"
   ]
  },
  {
   "cell_type": "code",
   "execution_count": 59,
   "id": "57e245ef-df8d-414a-93ef-d147d6cba2e3",
   "metadata": {},
   "outputs": [],
   "source": [
    "driver = webdriver.Chrome()\n",
    "time.sleep(2)  # Burada amaç sayfanın yüklenmesini beklemek\n",
    "driver.get(\"https://example.com/\")\n",
    "h1_element = driver.find_element(By.XPATH, \"//h1\") \n",
    "a_element = driver.find_element(By.XPATH, \"//a\") \n",
    "p_element = driver.find_element(By.XPATH, \"//p\") \n"
   ]
  },
  {
   "cell_type": "code",
   "execution_count": 60,
   "id": "c6d5a7e5-00fc-449f-a0b5-564a8dea8c17",
   "metadata": {},
   "outputs": [
    {
     "data": {
      "text/plain": [
       "[<selenium.webdriver.remote.webelement.WebElement (session=\"ca5887f8413ee872345a7841442d8ae2\", element=\"f.7B08E4073574A172EB7B68548A300FE6.d.105C98697EA36E43B7AAB4C9EF012383.e.4\")>,\n",
       " <selenium.webdriver.remote.webelement.WebElement (session=\"ca5887f8413ee872345a7841442d8ae2\", element=\"f.7B08E4073574A172EB7B68548A300FE6.d.105C98697EA36E43B7AAB4C9EF012383.e.5\")>]"
      ]
     },
     "execution_count": 60,
     "metadata": {},
     "output_type": "execute_result"
    }
   ],
   "source": [
    "p_elements = driver.find_elements(By.XPATH, \"//p\")\n",
    "p_elements"
   ]
  },
  {
   "cell_type": "code",
   "execution_count": 61,
   "id": "a1c09efb-9ec6-4949-a3d0-7bc2f95b340c",
   "metadata": {},
   "outputs": [
    {
     "name": "stdout",
     "output_type": "stream",
     "text": [
      "<selenium.webdriver.remote.webelement.WebElement (session=\"ca5887f8413ee872345a7841442d8ae2\", element=\"f.7B08E4073574A172EB7B68548A300FE6.d.105C98697EA36E43B7AAB4C9EF012383.e.4\")>\n"
     ]
    }
   ],
   "source": [
    "elem = None\n",
    "if p_elements:\n",
    "   elem = p_elements[0]\n",
    "else:\n",
    "    print(\"Element not found!\")\n",
    "\n",
    "print(elem)\n",
    "# Herhangi bir elementin yüklenip yüklenmediğini bu şekilde kontrol edebiliriz."
   ]
  },
  {
   "cell_type": "code",
   "execution_count": 62,
   "id": "b31303f4-8c61-4a7b-873d-6ae53af783fc",
   "metadata": {},
   "outputs": [],
   "source": [
    "driver.quit()"
   ]
  },
  {
   "cell_type": "markdown",
   "id": "050f597e-97b3-4258-97ff-894f56748b9f",
   "metadata": {},
   "source": [
    "Şimdi web sayfalarıyla etkileşime girelim."
   ]
  },
  {
   "cell_type": "code",
   "execution_count": 63,
   "id": "d5ba7f79-cb61-497d-8d0c-db8278cbb3a8",
   "metadata": {},
   "outputs": [],
   "source": [
    "driver = webdriver.Chrome()\n",
    "driver.get(\"https://www.miuul.com/\")\n",
    "time.sleep(2)"
   ]
  },
  {
   "cell_type": "code",
   "execution_count": 67,
   "id": "e6bd5035-f9ea-4a6b-9ac5-b769a0acc8b3",
   "metadata": {},
   "outputs": [],
   "source": [
    "# Şimdi miuul.com da giriş yap butonuna tıklayalım.\n",
    "time.sleep(3)\n",
    "btn_elements = driver.find_elements(By.XPATH, \"/html/body/nav/div[1]/div/div[3]/div/ul/li[1]/a\")\n",
    "btn = btn_elements[0]\n",
    "btn.click()"
   ]
  },
  {
   "cell_type": "code",
   "execution_count": 72,
   "id": "af9d29d9-53ac-4b74-aaea-416c1ecf9bd2",
   "metadata": {},
   "outputs": [],
   "source": [
    "# Şimdi de arama çubuğuna bir şey yazalım ve site üzerinden onu aratalım.\n",
    "inputs = driver.find_elements(By.XPATH, \"/html/body/div[1]/div/nav/div/div/form/div/input\")\n",
    "input = inputs[0]\n",
    "# Fakat tuşa basmamız için bir sınıf import etmeliyiz.\n",
    "from selenium.webdriver.common.keys import Keys\n",
    "input.send_keys(\"Data Science\", Keys.ENTER)"
   ]
  },
  {
   "cell_type": "code",
   "execution_count": 73,
   "id": "7a2b4a11-0487-4f8f-bd2c-b17d2f0fcdc8",
   "metadata": {},
   "outputs": [],
   "source": [
    "driver.quit()"
   ]
  },
  {
   "cell_type": "code",
   "execution_count": 74,
   "id": "5e5226ee-7f49-44ab-aae5-7a519a141278",
   "metadata": {},
   "outputs": [],
   "source": [
    "# Peki ulaşmak istediğim içerik sayfanın altındaysa ne olacak? Scroll etmem lazım.\n",
    "options = webdriver.ChromeOptions()\n",
    "options.add_argument(\"--start-maximized\") # Trayıcıyı tam ekranda açar.\n",
    "driver = webdriver.Chrome(options)\n",
    "driver.get(\"https://miuul.com/katalog\")\n",
    "time.sleep(2)"
   ]
  },
  {
   "cell_type": "code",
   "execution_count": 75,
   "id": "eb10dac2-c78d-4023-9166-8360e88a4479",
   "metadata": {},
   "outputs": [
    {
     "ename": "ElementClickInterceptedException",
     "evalue": "Message: element click intercepted: Element is not clickable at point (1042, 13331)\n  (Session info: chrome=127.0.6533.120)\nStacktrace:\n0   chromedriver                        0x000000010a9ab8b8 chromedriver + 5179576\n1   chromedriver                        0x000000010a9a32ea chromedriver + 5145322\n2   chromedriver                        0x000000010a51a2b0 chromedriver + 389808\n3   chromedriver                        0x000000010a56d096 chromedriver + 729238\n4   chromedriver                        0x000000010a56af88 chromedriver + 720776\n5   chromedriver                        0x000000010a568a57 chromedriver + 711255\n6   chromedriver                        0x000000010a567902 chromedriver + 706818\n7   chromedriver                        0x000000010a55b496 chromedriver + 656534\n8   chromedriver                        0x000000010a5887b2 chromedriver + 841650\n9   chromedriver                        0x000000010a55ae58 chromedriver + 654936\n10  chromedriver                        0x000000010a58896e chromedriver + 842094\n11  chromedriver                        0x000000010a5a5b9b chromedriver + 961435\n12  chromedriver                        0x000000010a588553 chromedriver + 841043\n13  chromedriver                        0x000000010a5597f6 chromedriver + 649206\n14  chromedriver                        0x000000010a55a05e chromedriver + 651358\n15  chromedriver                        0x000000010a96eb20 chromedriver + 4930336\n16  chromedriver                        0x000000010a973a36 chromedriver + 4950582\n17  chromedriver                        0x000000010a974105 chromedriver + 4952325\n18  chromedriver                        0x000000010a950ee9 chromedriver + 4808425\n19  chromedriver                        0x000000010a9743f9 chromedriver + 4953081\n20  chromedriver                        0x000000010a942844 chromedriver + 4749380\n21  chromedriver                        0x000000010a9935c8 chromedriver + 5080520\n22  chromedriver                        0x000000010a993787 chromedriver + 5080967\n23  chromedriver                        0x000000010a9a2ece chromedriver + 5144270\n24  libsystem_pthread.dylib             0x00007ff806fef1d3 _pthread_start + 125\n25  libsystem_pthread.dylib             0x00007ff806feabd3 thread_start + 15\n",
     "output_type": "error",
     "traceback": [
      "\u001b[0;31m---------------------------------------------------------------------------\u001b[0m",
      "\u001b[0;31mElementClickInterceptedException\u001b[0m          Traceback (most recent call last)",
      "Cell \u001b[0;32mIn[75], line 2\u001b[0m\n\u001b[1;32m      1\u001b[0m a_element \u001b[38;5;241m=\u001b[39m driver\u001b[38;5;241m.\u001b[39mfind_elements(By\u001b[38;5;241m.\u001b[39mXPATH, \u001b[38;5;124m\"\u001b[39m\u001b[38;5;124m/html/body/div[3]/main/div[2]/div/div[2]/div[6]/div[3]/div[1]/div/div[1]/a\u001b[39m\u001b[38;5;124m\"\u001b[39m)[\u001b[38;5;241m0\u001b[39m]\n\u001b[0;32m----> 2\u001b[0m a_element\u001b[38;5;241m.\u001b[39mclick()\n",
      "File \u001b[0;32m~/anaconda3/envs/ai/lib/python3.11/site-packages/selenium/webdriver/remote/webelement.py:94\u001b[0m, in \u001b[0;36mWebElement.click\u001b[0;34m(self)\u001b[0m\n\u001b[1;32m     92\u001b[0m \u001b[38;5;28;01mdef\u001b[39;00m \u001b[38;5;21mclick\u001b[39m(\u001b[38;5;28mself\u001b[39m) \u001b[38;5;241m-\u001b[39m\u001b[38;5;241m>\u001b[39m \u001b[38;5;28;01mNone\u001b[39;00m:\n\u001b[1;32m     93\u001b[0m \u001b[38;5;250m    \u001b[39m\u001b[38;5;124;03m\"\"\"Clicks the element.\"\"\"\u001b[39;00m\n\u001b[0;32m---> 94\u001b[0m     \u001b[38;5;28mself\u001b[39m\u001b[38;5;241m.\u001b[39m_execute(Command\u001b[38;5;241m.\u001b[39mCLICK_ELEMENT)\n",
      "File \u001b[0;32m~/anaconda3/envs/ai/lib/python3.11/site-packages/selenium/webdriver/remote/webelement.py:395\u001b[0m, in \u001b[0;36mWebElement._execute\u001b[0;34m(self, command, params)\u001b[0m\n\u001b[1;32m    393\u001b[0m     params \u001b[38;5;241m=\u001b[39m {}\n\u001b[1;32m    394\u001b[0m params[\u001b[38;5;124m\"\u001b[39m\u001b[38;5;124mid\u001b[39m\u001b[38;5;124m\"\u001b[39m] \u001b[38;5;241m=\u001b[39m \u001b[38;5;28mself\u001b[39m\u001b[38;5;241m.\u001b[39m_id\n\u001b[0;32m--> 395\u001b[0m \u001b[38;5;28;01mreturn\u001b[39;00m \u001b[38;5;28mself\u001b[39m\u001b[38;5;241m.\u001b[39m_parent\u001b[38;5;241m.\u001b[39mexecute(command, params)\n",
      "File \u001b[0;32m~/anaconda3/envs/ai/lib/python3.11/site-packages/selenium/webdriver/remote/webdriver.py:347\u001b[0m, in \u001b[0;36mWebDriver.execute\u001b[0;34m(self, driver_command, params)\u001b[0m\n\u001b[1;32m    345\u001b[0m response \u001b[38;5;241m=\u001b[39m \u001b[38;5;28mself\u001b[39m\u001b[38;5;241m.\u001b[39mcommand_executor\u001b[38;5;241m.\u001b[39mexecute(driver_command, params)\n\u001b[1;32m    346\u001b[0m \u001b[38;5;28;01mif\u001b[39;00m response:\n\u001b[0;32m--> 347\u001b[0m     \u001b[38;5;28mself\u001b[39m\u001b[38;5;241m.\u001b[39merror_handler\u001b[38;5;241m.\u001b[39mcheck_response(response)\n\u001b[1;32m    348\u001b[0m     response[\u001b[38;5;124m\"\u001b[39m\u001b[38;5;124mvalue\u001b[39m\u001b[38;5;124m\"\u001b[39m] \u001b[38;5;241m=\u001b[39m \u001b[38;5;28mself\u001b[39m\u001b[38;5;241m.\u001b[39m_unwrap_value(response\u001b[38;5;241m.\u001b[39mget(\u001b[38;5;124m\"\u001b[39m\u001b[38;5;124mvalue\u001b[39m\u001b[38;5;124m\"\u001b[39m, \u001b[38;5;28;01mNone\u001b[39;00m))\n\u001b[1;32m    349\u001b[0m     \u001b[38;5;28;01mreturn\u001b[39;00m response\n",
      "File \u001b[0;32m~/anaconda3/envs/ai/lib/python3.11/site-packages/selenium/webdriver/remote/errorhandler.py:229\u001b[0m, in \u001b[0;36mErrorHandler.check_response\u001b[0;34m(self, response)\u001b[0m\n\u001b[1;32m    227\u001b[0m         alert_text \u001b[38;5;241m=\u001b[39m value[\u001b[38;5;124m\"\u001b[39m\u001b[38;5;124malert\u001b[39m\u001b[38;5;124m\"\u001b[39m]\u001b[38;5;241m.\u001b[39mget(\u001b[38;5;124m\"\u001b[39m\u001b[38;5;124mtext\u001b[39m\u001b[38;5;124m\"\u001b[39m)\n\u001b[1;32m    228\u001b[0m     \u001b[38;5;28;01mraise\u001b[39;00m exception_class(message, screen, stacktrace, alert_text)  \u001b[38;5;66;03m# type: ignore[call-arg]  # mypy is not smart enough here\u001b[39;00m\n\u001b[0;32m--> 229\u001b[0m \u001b[38;5;28;01mraise\u001b[39;00m exception_class(message, screen, stacktrace)\n",
      "\u001b[0;31mElementClickInterceptedException\u001b[0m: Message: element click intercepted: Element is not clickable at point (1042, 13331)\n  (Session info: chrome=127.0.6533.120)\nStacktrace:\n0   chromedriver                        0x000000010a9ab8b8 chromedriver + 5179576\n1   chromedriver                        0x000000010a9a32ea chromedriver + 5145322\n2   chromedriver                        0x000000010a51a2b0 chromedriver + 389808\n3   chromedriver                        0x000000010a56d096 chromedriver + 729238\n4   chromedriver                        0x000000010a56af88 chromedriver + 720776\n5   chromedriver                        0x000000010a568a57 chromedriver + 711255\n6   chromedriver                        0x000000010a567902 chromedriver + 706818\n7   chromedriver                        0x000000010a55b496 chromedriver + 656534\n8   chromedriver                        0x000000010a5887b2 chromedriver + 841650\n9   chromedriver                        0x000000010a55ae58 chromedriver + 654936\n10  chromedriver                        0x000000010a58896e chromedriver + 842094\n11  chromedriver                        0x000000010a5a5b9b chromedriver + 961435\n12  chromedriver                        0x000000010a588553 chromedriver + 841043\n13  chromedriver                        0x000000010a5597f6 chromedriver + 649206\n14  chromedriver                        0x000000010a55a05e chromedriver + 651358\n15  chromedriver                        0x000000010a96eb20 chromedriver + 4930336\n16  chromedriver                        0x000000010a973a36 chromedriver + 4950582\n17  chromedriver                        0x000000010a974105 chromedriver + 4952325\n18  chromedriver                        0x000000010a950ee9 chromedriver + 4808425\n19  chromedriver                        0x000000010a9743f9 chromedriver + 4953081\n20  chromedriver                        0x000000010a942844 chromedriver + 4749380\n21  chromedriver                        0x000000010a9935c8 chromedriver + 5080520\n22  chromedriver                        0x000000010a993787 chromedriver + 5080967\n23  chromedriver                        0x000000010a9a2ece chromedriver + 5144270\n24  libsystem_pthread.dylib             0x00007ff806fef1d3 _pthread_start + 125\n25  libsystem_pthread.dylib             0x00007ff806feabd3 thread_start + 15\n"
     ]
    }
   ],
   "source": [
    "a_element = driver.find_elements(By.XPATH, \"/html/body/div[3]/main/div[2]/div/div[2]/div[6]/div[3]/div[1]/div/div[1]/a\")[0]\n",
    "a_element.click()"
   ]
  },
  {
   "cell_type": "markdown",
   "id": "9b5851ff-6d74-48c2-bb4f-e88792b59ba1",
   "metadata": {},
   "source": [
    "Ulaşamadı. Çünkü sayfanın sonunda. Bunun için javascript kodlarını kullanmamız lazım."
   ]
  },
  {
   "cell_type": "code",
   "execution_count": 76,
   "id": "d268ce54-8b43-4472-bacb-175538589ff3",
   "metadata": {},
   "outputs": [],
   "source": [
    "driver.execute_script(\"arguments[0].scrollIntoView();\", a_element) # xpath'ini verdiğim a_element sayfada görünür olana kadar scroll yap.\n",
    "# veya\n",
    "driver.execute_script(\"window.scrollTo(0, document.body.scrollHeight);\") # sayfanın en sonuna scroll yap.\n",
    "time.sleep(2)\n",
    "a_element.click()\n",
    "driver.quit()"
   ]
  },
  {
   "cell_type": "code",
   "execution_count": 77,
   "id": "11db22df-92c6-44f2-88d5-81d1fcf2840c",
   "metadata": {},
   "outputs": [],
   "source": [
    "options = webdriver.ChromeOptions()\n",
    "options.add_argument(\"--start-maximized\") # Trayıcıyı tam ekranda açar.\n",
    "driver = webdriver.Chrome(options)\n",
    "driver.get(\"https://miuul.com/katalog\")\n",
    "time.sleep(2)\n",
    "dropdown_button = driver.find_elements(By.XPATH, \"/html/body/div[1]/div/nav/div/div/ul[2]/li[5]/a\")[0]\n",
    "dropdown_button.click()"
   ]
  },
  {
   "cell_type": "code",
   "execution_count": 78,
   "id": "399be9c4-41a8-4ff4-ad8a-4dd9b20b4807",
   "metadata": {},
   "outputs": [],
   "source": [
    "# Burada navbarı küçültüyoruz ve oradaki değerleri scroll edecek şekilde düzenliyoruz.\n",
    "time.sleep(0.5)\n",
    "ul_element = driver.find_elements(By.XPATH, \"/html/body/nav/div[1]/div/div[3]/div/ul\")[0] \n",
    "driver.execute_script(\"arguments[0].setAttribute('style', arguments[1]);\", ul_element, \"overflow: scroll; height: 80px;\")"
   ]
  },
  {
   "cell_type": "code",
   "execution_count": 79,
   "id": "a84be4e8-e9fa-443c-9aec-f1a51ba63c24",
   "metadata": {},
   "outputs": [],
   "source": [
    "from selenium.webdriver.common.action_chains import ActionChains\n",
    "\n",
    "actions = ActionChains(driver)\n",
    "actions.send_keys(Keys.ARROW_DOWN).perform()\n",
    "time.sleep(0.25)\n",
    "actions.send_keys(Keys.ARROW_DOWN).perform()\n",
    "time.sleep(0.25)\n",
    "actions.send_keys(Keys.ARROW_DOWN).perform()\n",
    "actions.send_keys(Keys.ARROW_DOWN).perform()\n",
    "time.sleep(0.25)\n",
    "actions.send_keys(Keys.ARROW_DOWN).perform()\n",
    "podcast = driver.find_elements(By.XPATH, \"/html/body/div[1]/div/nav/div/div/ul[2]/li[5]/ul/li[4]/a\")[0]\n",
    "podcast.click()"
   ]
  },
  {
   "cell_type": "code",
   "execution_count": 80,
   "id": "c66eebeb-33eb-4da2-ba39-32ef553bd9e9",
   "metadata": {},
   "outputs": [],
   "source": [
    "driver.quit()"
   ]
  },
  {
   "cell_type": "markdown",
   "id": "2bcb658c-22d4-470c-9faf-e6bf3c36e543",
   "metadata": {},
   "source": [
    "## Pagination"
   ]
  },
  {
   "cell_type": "code",
   "execution_count": 81,
   "id": "7ba595b3-6b14-49d1-a5e0-a549aad2c692",
   "metadata": {},
   "outputs": [
    {
     "name": "stdout",
     "output_type": "stream",
     "text": [
      "[]\n",
      "0\n"
     ]
    }
   ],
   "source": [
    "options = webdriver.ChromeOptions()\n",
    "options.add_argument(\"--start-maximized\")\n",
    "driver = webdriver.Chrome(options)\n",
    "driver.get(\"https://learning.miuul.com/enrollments\")\n",
    "\n",
    "course_titles = []\n",
    "for i in range(1,999):\n",
    "    driver.get(f\"https://learning.miuul.com/enrollments?page={i}\")\n",
    "    time.sleep(3)\n",
    "    # Get Course Titles Per Page\n",
    "    course_elements = driver.find_elements(By.XPATH, \"//ul//h3\")\n",
    "    if not course_elements: # len(course_elements) <= 0\n",
    "        break\n",
    "    for course in course_elements:\n",
    "        title = course.get_attribute(\"innerText\")\n",
    "        course_titles.append(title)\n",
    "\n",
    "print(course_titles)\n",
    "print(len(course_titles))\n"
   ]
  },
  {
   "cell_type": "markdown",
   "id": "96f0bfce-a24d-40d5-aa60-61c461a634d1",
   "metadata": {},
   "source": [
    "Yukarıda örnek bir sayfalarda tek tek dolaşma işlemi var. Oturum açmadığım için 0 döndürdü. Burada tek tek kurs adlarını topluyor ve bir diziye atıyor."
   ]
  },
  {
   "cell_type": "markdown",
   "id": "d52c8230-e761-4b4b-8a4c-d0226b849609",
   "metadata": {},
   "source": [
    "Web scraping yaparken bot olduğumuzun anlaşılmaması için bir yol var."
   ]
  },
  {
   "cell_type": "code",
   "execution_count": 4,
   "id": "1aad6177-b7a8-4639-b71e-86a8d1ca27c2",
   "metadata": {},
   "outputs": [],
   "source": [
    "import undetected_chromedriver as uc\n",
    "from selenium import webdriver\n",
    "\n",
    "url = \"https://bot.sannysoft.com\"\n",
    "\n",
    "driver = uc.Chrome(version_main=127)\n",
    "with driver:\n",
    "    driver.get(url)\n",
    "\n",
    "# bunun sayesinde kazıma yaparken bot olduğumuz gizlenir.\n",
    "driver.quit()"
   ]
  }
 ],
 "metadata": {
  "kernelspec": {
   "display_name": "Python 3 (ipykernel)",
   "language": "python",
   "name": "python3"
  },
  "language_info": {
   "codemirror_mode": {
    "name": "ipython",
    "version": 3
   },
   "file_extension": ".py",
   "mimetype": "text/x-python",
   "name": "python",
   "nbconvert_exporter": "python",
   "pygments_lexer": "ipython3",
   "version": "3.11.8"
  }
 },
 "nbformat": 4,
 "nbformat_minor": 5
}
